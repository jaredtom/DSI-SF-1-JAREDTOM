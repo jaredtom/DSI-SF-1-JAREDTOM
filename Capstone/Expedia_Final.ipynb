{
 "cells": [
  {
   "cell_type": "markdown",
   "metadata": {},
   "source": [
    "# Problem Statement\n",
    "\n",
    "Expedia receives millions of users per day who are hoping to plan and book their ideal vacation. They are trying to find a better way to offer the best hotels for the customer so they can easily book the hotel of their choosing. More bookings means an increase Expedia's overall revenue.\n",
    "\n",
    "Expedia is interested in predicting which hotel group a user is going to book. Expedia has in-house algorithms to form hotel clusters, where similar hotels for a search (based on historical price, customer star ratings, geographical locations relative to city center, etc) are grouped together. These hotel clusters serve as identifiers to which types of hotels people are going to book, while avoiding outliers such as new hotels that don't have historical data.\n",
    "\n",
    "My goal is to predict the \"hotel cluster\" for a user based on their search criteria and attributes."
   ]
  },
  {
   "cell_type": "markdown",
   "metadata": {},
   "source": [
    "# About the the Data\n",
    "\n",
    "I received the data from Kaggle. I was given a training set and test set. For this analysis, I will be using only the training set as the test set is for Kaggle submissions. The training set consisted of random searches from Jan 2013 - Dec 2014.\n",
    "\n",
    "An important thing to note, the data is completely anonymized. Anything in relation to a location or name was given a numerical value. This really limited what insights I could draw from the data except from what was on the surface level."
   ]
  },
  {
   "cell_type": "markdown",
   "metadata": {},
   "source": [
    "## Data Dictionary"
   ]
  },
  {
   "cell_type": "markdown",
   "metadata": {},
   "source": [
    "|Column name|Description|Data type|\n",
    "|-----------|-----------|---------|\n",
    "|date_time|Timestamp|string|\n",
    "|site_name|ID of the Expedia point of sale(i.e.Expedia.com,Expedia.co.uk, Expedia.co.jp, ...)|int|\n",
    "|posa_continent|ID of continent associated with site_name|int|\n",
    "|user_location_country|The ID of the country the customer is located|int|\n",
    "|user_location_region|The ID of the region the customer is located|int|\n",
    "|user_location_city|The ID of the city the customer is located\t|int|\n",
    "|orig_destination_distance|Physical distance between a hotel and a customer at the time of search. A null means the distance could not be calculated|float|\n",
    "|user_id|ID of user|int|\n",
    "|is_mobile|1 when a user connected from a mobile device, 0 otherwise|int|\n",
    "|is_package|1 if the click/booking was generated as a part of a package (i.e. combined with a flight), 0 otherwise|int|\n",
    "|channel|ID of a marketing channel|int|\n",
    "|srch_ci|Checkin date|string|\n",
    "|srch_co|Checkout date|string|\n",
    "|srch_adults_cnt|The number of adults specified in the hotel room|int|\n",
    "|srch_children_cnt|The number of (extra occupancy) children specified in the hotel room|int|\n",
    "|srch_rm_cnt|The number of hotel rooms specified in the search\t|int|\n",
    "|srch_destination_id|ID of the destination where the hotel search was performed|int|\n",
    "|srch_destination_type_id|Type of destination|int|\n",
    "|hotel_continent|Hotel continent|int|\n",
    "|hotel_country|Hotel country|int|\n",
    "|hotel_market|Hotel market|int|\n",
    "|is_booking|1 if a booking, 0 if a click|int|\n",
    "|cnt|Numer of similar events in the context of the same user session|int|\n",
    "|hotel_cluster|ID of a hotel cluster|int|"
   ]
  },
  {
   "cell_type": "code",
   "execution_count": 1,
   "metadata": {
    "collapsed": false
   },
   "outputs": [
    {
     "name": "stderr",
     "output_type": "stream",
     "text": [
      "//anaconda/lib/python2.7/site-packages/pandas/computation/__init__.py:19: UserWarning: The installed version of numexpr 2.4.4 is not supported in pandas and will be not be used\n",
      "\n",
      "  UserWarning)\n"
     ]
    }
   ],
   "source": [
    "import pandas as pd\n",
    "import numpy as np\n",
    "import matplotlib.pyplot as plt\n",
    "import seaborn as sns\n",
    "import datetime\n",
    "from sklearn.cross_validation import train_test_split\n",
    "\n",
    "%matplotlib inline\n",
    "%config InlineBackend.figure_format = 'retina'"
   ]
  },
  {
   "cell_type": "code",
   "execution_count": 2,
   "metadata": {
    "collapsed": false
   },
   "outputs": [],
   "source": [
    "expedia = pd.read_csv(\"../../Datasets/Expedia Data/train.csv\", nrows=20000)"
   ]
  },
  {
   "cell_type": "code",
   "execution_count": 3,
   "metadata": {
    "collapsed": false
   },
   "outputs": [
    {
     "name": "stdout",
     "output_type": "stream",
     "text": [
      "<class 'pandas.core.frame.DataFrame'>\n",
      "RangeIndex: 20000 entries, 0 to 19999\n",
      "Data columns (total 24 columns):\n",
      "date_time                    20000 non-null object\n",
      "site_name                    20000 non-null int64\n",
      "posa_continent               20000 non-null int64\n",
      "user_location_country        20000 non-null int64\n",
      "user_location_region         20000 non-null int64\n",
      "user_location_city           20000 non-null int64\n",
      "orig_destination_distance    11868 non-null float64\n",
      "user_id                      20000 non-null int64\n",
      "is_mobile                    20000 non-null int64\n",
      "is_package                   20000 non-null int64\n",
      "channel                      20000 non-null int64\n",
      "srch_ci                      19988 non-null object\n",
      "srch_co                      19988 non-null object\n",
      "srch_adults_cnt              20000 non-null int64\n",
      "srch_children_cnt            20000 non-null int64\n",
      "srch_rm_cnt                  20000 non-null int64\n",
      "srch_destination_id          20000 non-null int64\n",
      "srch_destination_type_id     20000 non-null int64\n",
      "is_booking                   20000 non-null int64\n",
      "cnt                          20000 non-null int64\n",
      "hotel_continent              20000 non-null int64\n",
      "hotel_country                20000 non-null int64\n",
      "hotel_market                 20000 non-null int64\n",
      "hotel_cluster                20000 non-null int64\n",
      "dtypes: float64(1), int64(20), object(3)\n",
      "memory usage: 3.7+ MB\n"
     ]
    }
   ],
   "source": [
    "expedia.info()"
   ]
  },
  {
   "cell_type": "code",
   "execution_count": 4,
   "metadata": {
    "collapsed": false
   },
   "outputs": [
    {
     "data": {
      "text/html": [
       "<div>\n",
       "<table border=\"1\" class=\"dataframe\">\n",
       "  <thead>\n",
       "    <tr style=\"text-align: right;\">\n",
       "      <th></th>\n",
       "      <th>date_time</th>\n",
       "      <th>site_name</th>\n",
       "      <th>posa_continent</th>\n",
       "      <th>user_location_country</th>\n",
       "      <th>user_location_region</th>\n",
       "      <th>user_location_city</th>\n",
       "      <th>orig_destination_distance</th>\n",
       "      <th>user_id</th>\n",
       "      <th>is_mobile</th>\n",
       "      <th>is_package</th>\n",
       "      <th>...</th>\n",
       "      <th>srch_children_cnt</th>\n",
       "      <th>srch_rm_cnt</th>\n",
       "      <th>srch_destination_id</th>\n",
       "      <th>srch_destination_type_id</th>\n",
       "      <th>is_booking</th>\n",
       "      <th>cnt</th>\n",
       "      <th>hotel_continent</th>\n",
       "      <th>hotel_country</th>\n",
       "      <th>hotel_market</th>\n",
       "      <th>hotel_cluster</th>\n",
       "    </tr>\n",
       "  </thead>\n",
       "  <tbody>\n",
       "    <tr>\n",
       "      <th>0</th>\n",
       "      <td>2014-08-11 07:46:59</td>\n",
       "      <td>2</td>\n",
       "      <td>3</td>\n",
       "      <td>66</td>\n",
       "      <td>348</td>\n",
       "      <td>48862</td>\n",
       "      <td>2234.2641</td>\n",
       "      <td>12</td>\n",
       "      <td>0</td>\n",
       "      <td>1</td>\n",
       "      <td>...</td>\n",
       "      <td>0</td>\n",
       "      <td>1</td>\n",
       "      <td>8250</td>\n",
       "      <td>1</td>\n",
       "      <td>0</td>\n",
       "      <td>3</td>\n",
       "      <td>2</td>\n",
       "      <td>50</td>\n",
       "      <td>628</td>\n",
       "      <td>1</td>\n",
       "    </tr>\n",
       "    <tr>\n",
       "      <th>1</th>\n",
       "      <td>2014-08-11 08:22:12</td>\n",
       "      <td>2</td>\n",
       "      <td>3</td>\n",
       "      <td>66</td>\n",
       "      <td>348</td>\n",
       "      <td>48862</td>\n",
       "      <td>2234.2641</td>\n",
       "      <td>12</td>\n",
       "      <td>0</td>\n",
       "      <td>1</td>\n",
       "      <td>...</td>\n",
       "      <td>0</td>\n",
       "      <td>1</td>\n",
       "      <td>8250</td>\n",
       "      <td>1</td>\n",
       "      <td>1</td>\n",
       "      <td>1</td>\n",
       "      <td>2</td>\n",
       "      <td>50</td>\n",
       "      <td>628</td>\n",
       "      <td>1</td>\n",
       "    </tr>\n",
       "    <tr>\n",
       "      <th>2</th>\n",
       "      <td>2014-08-11 08:24:33</td>\n",
       "      <td>2</td>\n",
       "      <td>3</td>\n",
       "      <td>66</td>\n",
       "      <td>348</td>\n",
       "      <td>48862</td>\n",
       "      <td>2234.2641</td>\n",
       "      <td>12</td>\n",
       "      <td>0</td>\n",
       "      <td>0</td>\n",
       "      <td>...</td>\n",
       "      <td>0</td>\n",
       "      <td>1</td>\n",
       "      <td>8250</td>\n",
       "      <td>1</td>\n",
       "      <td>0</td>\n",
       "      <td>1</td>\n",
       "      <td>2</td>\n",
       "      <td>50</td>\n",
       "      <td>628</td>\n",
       "      <td>1</td>\n",
       "    </tr>\n",
       "  </tbody>\n",
       "</table>\n",
       "<p>3 rows × 24 columns</p>\n",
       "</div>"
      ],
      "text/plain": [
       "             date_time  site_name  posa_continent  user_location_country  \\\n",
       "0  2014-08-11 07:46:59          2               3                     66   \n",
       "1  2014-08-11 08:22:12          2               3                     66   \n",
       "2  2014-08-11 08:24:33          2               3                     66   \n",
       "\n",
       "   user_location_region  user_location_city  orig_destination_distance  \\\n",
       "0                   348               48862                  2234.2641   \n",
       "1                   348               48862                  2234.2641   \n",
       "2                   348               48862                  2234.2641   \n",
       "\n",
       "   user_id  is_mobile  is_package      ...        srch_children_cnt  \\\n",
       "0       12          0           1      ...                        0   \n",
       "1       12          0           1      ...                        0   \n",
       "2       12          0           0      ...                        0   \n",
       "\n",
       "  srch_rm_cnt srch_destination_id  srch_destination_type_id  is_booking  cnt  \\\n",
       "0           1                8250                         1           0    3   \n",
       "1           1                8250                         1           1    1   \n",
       "2           1                8250                         1           0    1   \n",
       "\n",
       "   hotel_continent  hotel_country  hotel_market  hotel_cluster  \n",
       "0                2             50           628              1  \n",
       "1                2             50           628              1  \n",
       "2                2             50           628              1  \n",
       "\n",
       "[3 rows x 24 columns]"
      ]
     },
     "execution_count": 4,
     "metadata": {},
     "output_type": "execute_result"
    }
   ],
   "source": [
    "expedia.head(3)"
   ]
  },
  {
   "cell_type": "code",
   "execution_count": 5,
   "metadata": {
    "collapsed": false
   },
   "outputs": [],
   "source": [
    "exp = pd.DataFrame(expedia)"
   ]
  },
  {
   "cell_type": "code",
   "execution_count": 6,
   "metadata": {
    "collapsed": true
   },
   "outputs": [],
   "source": [
    "exp['date_time'] = pd.to_datetime(exp['date_time'])\n",
    "exp['srch_ci'] = pd.to_datetime(exp['srch_ci'])\n",
    "exp['srch_co'] = pd.to_datetime(exp['srch_co'])"
   ]
  },
  {
   "cell_type": "markdown",
   "metadata": {},
   "source": [
    "# Summary Statistics"
   ]
  },
  {
   "cell_type": "code",
   "execution_count": 7,
   "metadata": {
    "collapsed": false
   },
   "outputs": [
    {
     "name": "stdout",
     "output_type": "stream",
     "text": [
      "66     11016\n",
      "69      2067\n",
      "205     1386\n",
      "3        897\n",
      "46       829\n",
      "23       398\n",
      "70       276\n",
      "62       228\n",
      "77       194\n",
      "231      189\n",
      "Name: user_location_country, dtype: int64\n"
     ]
    },
    {
     "data": {
      "text/plain": [
       "<matplotlib.axes._subplots.AxesSubplot at 0x1100885d0>"
      ]
     },
     "execution_count": 7,
     "metadata": {},
     "output_type": "execute_result"
    },
    {
     "data": {
      "image/png": "[encoded data removed]",
      "text/plain": [
       "<matplotlib.figure.Figure at 0x1038d4310>"
      ]
     },
     "metadata": {
      "image/png": {
       "height": 321,
       "width": 607
      }
     },
     "output_type": "display_data"
    }
   ],
   "source": [
    "# What country are most of the searches from?\n",
    "\n",
    "print exp['user_location_country'].value_counts().head(10)\n",
    "\n",
    "plt.figure(figsize=(10,5))\n",
    "exp['user_location_country'].value_counts().head(10).plot(legend=True, kind='bar')"
   ]
  },
  {
   "cell_type": "code",
   "execution_count": 8,
   "metadata": {
    "collapsed": true
   },
   "outputs": [],
   "source": [
    "# Booked subset\n",
    "booked = exp[exp['is_booking'] == 1]"
   ]
  },
  {
   "cell_type": "code",
   "execution_count": 59,
   "metadata": {
    "collapsed": false,
    "scrolled": true
   },
   "outputs": [
    {
     "name": "stdout",
     "output_type": "stream",
     "text": [
      "0    18421\n",
      "1     1579\n",
      "Name: is_booking, dtype: int64\n"
     ]
    },
    {
     "data": {
      "text/plain": [
       "<matplotlib.axes._subplots.AxesSubplot at 0x113f55f10>"
      ]
     },
     "execution_count": 59,
     "metadata": {},
     "output_type": "execute_result"
    },
    {
     "data": {
      "image/png": "[encoded data removed]",
      "text/plain": [
       "<matplotlib.figure.Figure at 0x1151fea50>"
      ]
     },
     "metadata": {
      "image/png": {
       "height": 254,
       "width": 384
      }
     },
     "output_type": "display_data"
    }
   ],
   "source": [
    "# How many bookings?\n",
    "\n",
    "print exp['is_booking'].value_counts()\n",
    "exp['is_booking'].value_counts().plot(legend=True, kind='bar')"
   ]
  },
  {
   "cell_type": "code",
   "execution_count": 10,
   "metadata": {
    "collapsed": false
   },
   "outputs": [
    {
     "name": "stdout",
     "output_type": "stream",
     "text": [
      "0    15013\n",
      "1     4987\n",
      "Name: is_package, dtype: int64\n"
     ]
    },
    {
     "data": {
      "text/plain": [
       "<matplotlib.axes._subplots.AxesSubplot at 0x1103309d0>"
      ]
     },
     "execution_count": 10,
     "metadata": {},
     "output_type": "execute_result"
    },
    {
     "data": {
      "image/png": "[encoded data removed]",
      "text/plain": [
       "<matplotlib.figure.Figure at 0x1114bd290>"
      ]
     },
     "metadata": {
      "image/png": {
       "height": 254,
       "width": 384
      }
     },
     "output_type": "display_data"
    }
   ],
   "source": [
    "# Packages\n",
    "# Packages booked packages\n",
    "\n",
    "print exp['is_package'].value_counts()\n",
    "exp['is_package'].value_counts().plot(legend=True, kind='bar')"
   ]
  },
  {
   "cell_type": "code",
   "execution_count": 11,
   "metadata": {
    "collapsed": false
   },
   "outputs": [
    {
     "name": "stdout",
     "output_type": "stream",
     "text": [
      "0    16840\n",
      "1     3160\n",
      "Name: is_mobile, dtype: int64\n"
     ]
    },
    {
     "data": {
      "text/plain": [
       "<matplotlib.axes._subplots.AxesSubplot at 0x11028ca50>"
      ]
     },
     "execution_count": 11,
     "metadata": {},
     "output_type": "execute_result"
    },
    {
     "data": {
      "image/png": "[encoded data removed]",
      "text/plain": [
       "<matplotlib.figure.Figure at 0x11162cad0>"
      ]
     },
     "metadata": {
      "image/png": {
       "height": 254,
       "width": 384
      }
     },
     "output_type": "display_data"
    }
   ],
   "source": [
    "# Mobile\n",
    "# booked Mobile\n",
    "# booked mobile, that is a package\n",
    "\n",
    "print exp['is_mobile'].value_counts()\n",
    "exp['is_mobile'].value_counts().plot(legend=True, kind='bar')"
   ]
  },
  {
   "cell_type": "code",
   "execution_count": 42,
   "metadata": {
    "collapsed": false
   },
   "outputs": [
    {
     "data": {
      "text/plain": [
       "<matplotlib.axes._subplots.AxesSubplot at 0x1154c75d0>"
      ]
     },
     "execution_count": 42,
     "metadata": {},
     "output_type": "execute_result"
    },
    {
     "data": {
      "image/png": "[encoded data removed]",
      "text/plain": [
       "<matplotlib.figure.Figure at 0x115792310>"
      ]
     },
     "metadata": {
      "image/png": {
       "height": 452,
       "width": 763
      }
     },
     "output_type": "display_data"
    }
   ],
   "source": [
    "# The number of bookings during the year\n",
    "\n",
    "date_booked = booked.groupby(booked.date_time.dt.to_period(\"M\"))['is_booking'].sum()\n",
    "\n",
    "fig = plt.figure(figsize=(13,7))\n",
    "\n",
    "date_booked.plot(legend=True, marker='o')"
   ]
  },
  {
   "cell_type": "code",
   "execution_count": 12,
   "metadata": {
    "collapsed": true
   },
   "outputs": [],
   "source": [
    "# Create a copy and remove features that do not relate to hotel cluster\n",
    "exp2 = exp.copy()\n",
    "\n",
    "exp2.drop(exp2[['date_time', 'srch_ci', 'srch_co', 'channel', \n",
    "                'orig_destination_distance', 'hotel_cluster']], axis=1, inplace=True)"
   ]
  },
  {
   "cell_type": "code",
   "execution_count": 13,
   "metadata": {
    "collapsed": false
   },
   "outputs": [],
   "source": [
    "X_cols = exp2.columns\n",
    "X = exp2[X_cols].values\n",
    "Y = expedia.hotel_cluster.values\n",
    "\n",
    "X_train, X_test, Y_train, Y_test = train_test_split(X, Y, test_size=0.3)"
   ]
  },
  {
   "cell_type": "markdown",
   "metadata": {},
   "source": [
    "# Baseline Accuracy\n",
    "\n",
    "Our baseline accuracy for the data is 2%. This indicates if someone were to guess which hotel a user will book, the liklihood of them guessing correctly would be 2%."
   ]
  },
  {
   "cell_type": "code",
   "execution_count": 14,
   "metadata": {
    "collapsed": false
   },
   "outputs": [
    {
     "name": "stdout",
     "output_type": "stream",
     "text": [
      "ModeResult(mode=array([91]), count=array([476]))\n"
     ]
    }
   ],
   "source": [
    "# find the mode of the dataset\n",
    "from scipy.stats import mode\n",
    "modearray = mode(Y)\n",
    "print modearray"
   ]
  },
  {
   "cell_type": "code",
   "execution_count": 15,
   "metadata": {
    "collapsed": false
   },
   "outputs": [
    {
     "name": "stdout",
     "output_type": "stream",
     "text": [
      "baseline score:  0.0238\n"
     ]
    }
   ],
   "source": [
    "baseline = modearray[1][0]/float(Y.shape[0])\n",
    "print \"baseline score: \", baseline"
   ]
  },
  {
   "cell_type": "markdown",
   "metadata": {},
   "source": [
    "# Modeling"
   ]
  },
  {
   "cell_type": "code",
   "execution_count": 16,
   "metadata": {
    "collapsed": true
   },
   "outputs": [],
   "source": [
    "from sklearn.tree import DecisionTreeClassifier\n",
    "from sklearn.neighbors import KNeighborsClassifier\n",
    "from sklearn.ensemble import RandomForestClassifier\n",
    "from sklearn.grid_search import GridSearchCV\n",
    "from sklearn.metrics import confusion_matrix\n",
    "from sklearn.metrics import classification_report"
   ]
  },
  {
   "cell_type": "markdown",
   "metadata": {},
   "source": [
    "### Decision Tree\n",
    "\n",
    "I chose a decision to try and find my best predictors."
   ]
  },
  {
   "cell_type": "code",
   "execution_count": 17,
   "metadata": {
    "collapsed": true
   },
   "outputs": [],
   "source": [
    "dtc = DecisionTreeClassifier()"
   ]
  },
  {
   "cell_type": "code",
   "execution_count": 55,
   "metadata": {
    "collapsed": false
   },
   "outputs": [],
   "source": [
    "dtc_params = {\n",
    "    'criterion':['gini','entropy'],\n",
    "    'max_features':['auto', None],\n",
    "    'max_depth':[None,3,4,5],\n",
    "    'min_samples_split':[2,3,4,5],\n",
    "    'min_samples_leaf':[1,3,5,7]\n",
    "}\n",
    "\n",
    "dtc_gs = GridSearchCV(dtc, dtc_params, cv=5, n_jobs=-1)"
   ]
  },
  {
   "cell_type": "code",
   "execution_count": 56,
   "metadata": {
    "collapsed": false
   },
   "outputs": [
    {
     "name": "stdout",
     "output_type": "stream",
     "text": [
      "Runtime: 28.089\n",
      "Gridsearch score: 0.2466\n",
      "Best parameter:  {'max_features': None, 'min_samples_split': 2, 'criterion': 'entropy', 'max_depth': None, 'min_samples_leaf': 1}\n"
     ]
    }
   ],
   "source": [
    "import time\n",
    "def dtc_fit(model_gs, X, y):\n",
    "    start = time.time()\n",
    "    model_gs.fit(X,y)\n",
    "    print \"Runtime: %0.3f\"%(time.time() - start)\n",
    "    print \"Gridsearch score: %0.4f\"%(model_gs.best_score_)\n",
    "    print \"Best parameter: \", model_gs.best_params_\n",
    "\n",
    "dtc_fit(dtc_gs, X_train, Y_train)"
   ]
  },
  {
   "cell_type": "code",
   "execution_count": 43,
   "metadata": {
    "collapsed": false
   },
   "outputs": [],
   "source": [
    "dtc_best = dtc_gs.best_estimator_.fit(X_train, Y_train)"
   ]
  },
  {
   "cell_type": "code",
   "execution_count": 44,
   "metadata": {
    "collapsed": false
   },
   "outputs": [
    {
     "data": {
      "text/plain": [
       "0.26483333333333331"
      ]
     },
     "execution_count": 44,
     "metadata": {},
     "output_type": "execute_result"
    }
   ],
   "source": [
    "dtc_best.score(X_test, Y_test)"
   ]
  },
  {
   "cell_type": "code",
   "execution_count": 45,
   "metadata": {
    "collapsed": false
   },
   "outputs": [
    {
     "data": {
      "text/html": [
       "<div>\n",
       "<table border=\"1\" class=\"dataframe\">\n",
       "  <thead>\n",
       "    <tr style=\"text-align: right;\">\n",
       "      <th></th>\n",
       "      <th>feature</th>\n",
       "      <th>importance</th>\n",
       "    </tr>\n",
       "  </thead>\n",
       "  <tbody>\n",
       "    <tr>\n",
       "      <th>17</th>\n",
       "      <td>hotel_market</td>\n",
       "      <td>0.208411</td>\n",
       "    </tr>\n",
       "    <tr>\n",
       "      <th>15</th>\n",
       "      <td>hotel_continent</td>\n",
       "      <td>0.120428</td>\n",
       "    </tr>\n",
       "    <tr>\n",
       "      <th>5</th>\n",
       "      <td>user_id</td>\n",
       "      <td>0.117218</td>\n",
       "    </tr>\n",
       "    <tr>\n",
       "      <th>4</th>\n",
       "      <td>user_location_city</td>\n",
       "      <td>0.096832</td>\n",
       "    </tr>\n",
       "    <tr>\n",
       "      <th>11</th>\n",
       "      <td>srch_destination_id</td>\n",
       "      <td>0.083084</td>\n",
       "    </tr>\n",
       "    <tr>\n",
       "      <th>3</th>\n",
       "      <td>user_location_region</td>\n",
       "      <td>0.076564</td>\n",
       "    </tr>\n",
       "    <tr>\n",
       "      <th>16</th>\n",
       "      <td>hotel_country</td>\n",
       "      <td>0.068499</td>\n",
       "    </tr>\n",
       "    <tr>\n",
       "      <th>14</th>\n",
       "      <td>cnt</td>\n",
       "      <td>0.059505</td>\n",
       "    </tr>\n",
       "    <tr>\n",
       "      <th>12</th>\n",
       "      <td>srch_destination_type_id</td>\n",
       "      <td>0.031895</td>\n",
       "    </tr>\n",
       "    <tr>\n",
       "      <th>8</th>\n",
       "      <td>srch_adults_cnt</td>\n",
       "      <td>0.030925</td>\n",
       "    </tr>\n",
       "    <tr>\n",
       "      <th>2</th>\n",
       "      <td>user_location_country</td>\n",
       "      <td>0.019834</td>\n",
       "    </tr>\n",
       "    <tr>\n",
       "      <th>0</th>\n",
       "      <td>site_name</td>\n",
       "      <td>0.019509</td>\n",
       "    </tr>\n",
       "    <tr>\n",
       "      <th>9</th>\n",
       "      <td>srch_children_cnt</td>\n",
       "      <td>0.017555</td>\n",
       "    </tr>\n",
       "    <tr>\n",
       "      <th>6</th>\n",
       "      <td>is_mobile</td>\n",
       "      <td>0.013911</td>\n",
       "    </tr>\n",
       "    <tr>\n",
       "      <th>7</th>\n",
       "      <td>is_package</td>\n",
       "      <td>0.013007</td>\n",
       "    </tr>\n",
       "    <tr>\n",
       "      <th>13</th>\n",
       "      <td>is_booking</td>\n",
       "      <td>0.008709</td>\n",
       "    </tr>\n",
       "    <tr>\n",
       "      <th>1</th>\n",
       "      <td>posa_continent</td>\n",
       "      <td>0.008407</td>\n",
       "    </tr>\n",
       "    <tr>\n",
       "      <th>10</th>\n",
       "      <td>srch_rm_cnt</td>\n",
       "      <td>0.005707</td>\n",
       "    </tr>\n",
       "  </tbody>\n",
       "</table>\n",
       "</div>"
      ],
      "text/plain": [
       "                     feature  importance\n",
       "17              hotel_market    0.208411\n",
       "15           hotel_continent    0.120428\n",
       "5                    user_id    0.117218\n",
       "4         user_location_city    0.096832\n",
       "11       srch_destination_id    0.083084\n",
       "3       user_location_region    0.076564\n",
       "16             hotel_country    0.068499\n",
       "14                       cnt    0.059505\n",
       "12  srch_destination_type_id    0.031895\n",
       "8            srch_adults_cnt    0.030925\n",
       "2      user_location_country    0.019834\n",
       "0                  site_name    0.019509\n",
       "9          srch_children_cnt    0.017555\n",
       "6                  is_mobile    0.013911\n",
       "7                 is_package    0.013007\n",
       "13                is_booking    0.008709\n",
       "1             posa_continent    0.008407\n",
       "10               srch_rm_cnt    0.005707"
      ]
     },
     "execution_count": 45,
     "metadata": {},
     "output_type": "execute_result"
    }
   ],
   "source": [
    "pd.DataFrame({'feature':X_cols, 'importance':dtc_best.feature_importances_}).sort_values(by='importance', \n",
    "                                                                                         ascending=False)"
   ]
  },
  {
   "cell_type": "markdown",
   "metadata": {},
   "source": [
    "### Random Forest"
   ]
  },
  {
   "cell_type": "code",
   "execution_count": 46,
   "metadata": {
    "collapsed": false
   },
   "outputs": [],
   "source": [
    "rf = RandomForestClassifier()"
   ]
  },
  {
   "cell_type": "code",
   "execution_count": 24,
   "metadata": {
    "collapsed": false,
    "scrolled": true
   },
   "outputs": [
    {
     "name": "stdout",
     "output_type": "stream",
     "text": [
      "[CV] max_features=auto, min_samples_split=3, criterion=entropy, max_depth=5, min_samples_leaf=7 \n",
      "[CV] max_features=None, min_samples_split=3, criterion=entropy, max_depth=5, min_samples_leaf=3 \n",
      "[CV]  max_features=auto, min_samples_split=2, criterion=entropy, max_depth=5, min_samples_leaf=7 -   0.0s\n",
      "[CV]  max_features=None, min_samples_split=3, criterion=entropy, max_depth=5, min_samples_leaf=1 -   0.1s[CV]  max_features=auto, min_samples_split=3, criterion=entropy, max_depth=5, min_samples_leaf=7 -   0.1s[CV]  max_features=None, min_samples_split=3, criterion=entropy, max_depth=5, min_samples_leaf=3 -   0.1s[CV] max_features=auto, min_samples_split=2, criterion=entropy, max_depth=5, min_samples_leaf=7 \n",
      "\n",
      "\n",
      "\n",
      "[CV]  max_features=auto, min_samples_split=2, criterion=entropy, max_depth=5, min_samples_leaf=7 -   0.0s\n",
      "[CV] max_features=None, min_samples_split=3, criterion=entropy, max_depth=5, min_samples_leaf=1 \n",
      "[CV] max_features=None, min_samples_split=2, criterion=entropy, max_depth=5, min_samples_leaf=1 \n",
      "[CV] max_features=None, min_samples_split=3, criterion=entropy, max_depth=5, min_samples_leaf=3 \n",
      "[CV] max_features=auto, min_samples_split=2, criterion=entropy, max_depth=5, min_samples_leaf=7 \n",
      "[CV]  max_features=None, min_samples_split=3, criterion=entropy, max_depth=5, min_samples_leaf=1 -   0.1s[CV]  max_features=None, min_samples_split=2, criterion=entropy, max_depth=5, min_samples_leaf=1 -   0.1s[CV]  max_features=None, min_samples_split=3, criterion=entropy, max_depth=5, min_samples_leaf=3 -   0.1s[CV]  max_features=auto, min_samples_split=2, criterion=entropy, max_depth=5, min_samples_leaf=7 -   0.0s\n",
      "\n",
      "\n",
      "\n",
      "[CV] max_features=auto, min_samples_split=2, criterion=entropy, max_depth=5, min_samples_leaf=7 \n",
      "[CV] max_features=None, min_samples_split=3, criterion=entropy, max_depth=5, min_samples_leaf=1 \n",
      "[CV] max_features=None, min_samples_split=2, criterion=entropy, max_depth=5, min_samples_leaf=1 \n",
      "[CV] max_features=None, min_samples_split=3, criterion=entropy, max_depth=5, min_samples_leaf=3 \n",
      "[CV]  max_features=auto, min_samples_split=2, criterion=entropy, max_depth=5, min_samples_leaf=7 -   0.0s\n",
      "[CV]  max_features=None, min_samples_split=3, criterion=entropy, max_depth=5, min_samples_leaf=1 -   0.1s[CV]  max_features=None, min_samples_split=2, criterion=entropy, max_depth=5, min_samples_leaf=1 -   0.1s[CV]  max_features=None, min_samples_split=3, criterion=entropy, max_depth=5, min_samples_leaf=3 -   0.1s[CV] max_features=auto, min_samples_split=5, criterion=entropy, max_depth=5, min_samples_leaf=7 \n",
      "\n",
      "\n",
      "\n",
      "[CV]  max_features=auto, min_samples_split=5, criterion=entropy, max_depth=5, min_samples_leaf=7 -   0.0s\n",
      "[CV] max_features=None, min_samples_split=2, criterion=entropy, max_depth=5, min_samples_leaf=3 \n",
      "[CV] max_features=None, min_samples_split=2, criterion=entropy, max_depth=5, min_samples_leaf=1 \n",
      "[CV] max_features=None, min_samples_split=3, criterion=entropy, max_depth=5, min_samples_leaf=3 \n",
      "[CV] max_features=auto, min_samples_split=5, criterion=entropy, max_depth=5, min_samples_leaf=7 \n",
      "[CV]  max_features=None, min_samples_split=2, criterion=entropy, max_depth=5, min_samples_leaf=3 -   0.1s[CV]  max_features=None, min_samples_split=2, criterion=entropy, max_depth=5, min_samples_leaf=1 -   0.1s[CV]  max_features=None, min_samples_split=3, criterion=entropy, max_depth=5, min_samples_leaf=3 -   0.1s[CV]  max_features=auto, min_samples_split=5, criterion=entropy, max_depth=5, min_samples_leaf=7 -   0.0s\n",
      "\n",
      "\n",
      "\n",
      "[CV] max_features=auto, min_samples_split=5, criterion=entropy, max_depth=5, min_samples_leaf=7 \n",
      "[CV] max_features=None, min_samples_split=2, criterion=entropy, max_depth=5, min_samples_leaf=3 \n",
      "[CV] max_features=None, min_samples_split=2, criterion=entropy, max_depth=5, min_samples_leaf=1 \n",
      "[CV] max_features=None, min_samples_split=2, criterion=entropy, max_depth=5, min_samples_leaf=5 \n",
      "[CV]  max_features=auto, min_samples_split=5, criterion=entropy, max_depth=5, min_samples_leaf=7 -   0.0s\n",
      "[CV]  max_features=None, min_samples_split=2, criterion=entropy, max_depth=5, min_samples_leaf=3 -   0.1s[CV]  max_features=None, min_samples_split=2, criterion=entropy, max_depth=5, min_samples_leaf=1 -   0.1s[CV]  max_features=None, min_samples_split=2, criterion=entropy, max_depth=5, min_samples_leaf=5 -   0.1s[CV] max_features=None, min_samples_split=2, criterion=entropy, max_depth=5, min_samples_leaf=1 \n",
      "\n",
      "\n",
      "\n",
      "[CV]  max_features=None, min_samples_split=2, criterion=entropy, max_depth=5, min_samples_leaf=1 -   0.1s[CV] max_features=None, min_samples_split=2, criterion=entropy, max_depth=5, min_samples_leaf=3 \n",
      "[CV] max_features=None, min_samples_split=5, criterion=entropy, max_depth=5, min_samples_leaf=1 \n",
      "[CV] max_features=None, min_samples_split=2, criterion=entropy, max_depth=5, min_samples_leaf=5 \n",
      "\n",
      "[CV]  max_features=None, min_samples_split=2, criterion=entropy, max_depth=5, min_samples_leaf=3 -   0.1s[CV]  max_features=None, min_samples_split=5, criterion=entropy, max_depth=5, min_samples_leaf=1 -   0.1s[CV]  max_features=None, min_samples_split=2, criterion=entropy, max_depth=5, min_samples_leaf=5 -   0.1s[CV] max_features=None, min_samples_split=4, criterion=entropy, max_depth=5, min_samples_leaf=1 \n",
      "\n",
      "\n",
      "\n",
      "[CV]  max_features=None, min_samples_split=4, criterion=entropy, max_depth=5, min_samples_leaf=1 -   0.1s[CV] max_features=None, min_samples_split=2, criterion=entropy, max_depth=5, min_samples_leaf=3 \n",
      "[CV] max_features=None, min_samples_split=5, criterion=entropy, max_depth=5, min_samples_leaf=1 \n",
      "[CV] max_features=None, min_samples_split=2, criterion=entropy, max_depth=5, min_samples_leaf=5 \n",
      "\n",
      "[CV]  max_features=None, min_samples_split=2, criterion=entropy, max_depth=5, min_samples_leaf=3 -   0.1s[CV]  max_features=None, min_samples_split=5, criterion=entropy, max_depth=5, min_samples_leaf=1 -   0.1s[CV]  max_features=None, min_samples_split=2, criterion=entropy, max_depth=5, min_samples_leaf=5 -   0.1s[CV] max_features=None, min_samples_split=4, criterion=entropy, max_depth=5, min_samples_leaf=1 \n",
      "\n",
      "\n",
      "\n",
      "[CV]  max_features=None, min_samples_split=4, criterion=entropy, max_depth=5, min_samples_leaf=1 -   0.1s[CV] max_features=None, min_samples_split=5, criterion=entropy, max_depth=5, min_samples_leaf=3 \n",
      "[CV] max_features=None, min_samples_split=5, criterion=entropy, max_depth=5, min_samples_leaf=1 \n",
      "[CV] max_features=None, min_samples_split=2, criterion=entropy, max_depth=5, min_samples_leaf=5 \n",
      "\n",
      "[CV]  max_features=None, min_samples_split=5, criterion=entropy, max_depth=5, min_samples_leaf=3 -   0.1s[CV]  max_features=None, min_samples_split=5, criterion=entropy, max_depth=5, min_samples_leaf=1 -   0.1s[CV]  max_features=None, min_samples_split=2, criterion=entropy, max_depth=5, min_samples_leaf=5 -   0.1s[CV] max_features=None, min_samples_split=5, criterion=entropy, max_depth=5, min_samples_leaf=1 \n",
      "\n",
      "\n",
      "\n",
      "[CV]  max_features=None, min_samples_split=5, criterion=entropy, max_depth=5, min_samples_leaf=1 -   0.1s[CV] max_features=None, min_samples_split=5, criterion=entropy, max_depth=5, min_samples_leaf=3 \n",
      "[CV] max_features=None, min_samples_split=2, criterion=entropy, max_depth=5, min_samples_leaf=3 \n",
      "[CV] max_features=None, min_samples_split=5, criterion=entropy, max_depth=5, min_samples_leaf=5 \n",
      "\n",
      "[CV]  max_features=None, min_samples_split=5, criterion=entropy, max_depth=5, min_samples_leaf=3 -   0.1s[CV]  max_features=None, min_samples_split=2, criterion=entropy, max_depth=5, min_samples_leaf=3 -   0.1s[CV]  max_features=None, min_samples_split=5, criterion=entropy, max_depth=5, min_samples_leaf=5 -   0.1s[CV] max_features=None, min_samples_split=5, criterion=entropy, max_depth=5, min_samples_leaf=1 \n",
      "\n",
      "\n",
      "\n",
      "[CV]  max_features=None, min_samples_split=5, criterion=entropy, max_depth=5, min_samples_leaf=1 -   0.1s[CV] max_features=None, min_samples_split=5, criterion=entropy, max_depth=5, min_samples_leaf=3 \n",
      "[CV] max_features=None, min_samples_split=4, criterion=entropy, max_depth=5, min_samples_leaf=3 \n",
      "[CV] max_features=None, min_samples_split=5, criterion=entropy, max_depth=5, min_samples_leaf=5 \n",
      "\n",
      "[CV]  max_features=None, min_samples_split=5, criterion=entropy, max_depth=5, min_samples_leaf=3 -   0.1s[CV]  max_features=None, min_samples_split=4, criterion=entropy, max_depth=5, min_samples_leaf=3 -   0.1s[CV]  max_features=None, min_samples_split=5, criterion=entropy, max_depth=5, min_samples_leaf=5 -   0.1s[CV] max_features=None, min_samples_split=3, criterion=entropy, max_depth=5, min_samples_leaf=3 \n",
      "\n",
      "\n",
      "\n",
      "[CV]  max_features=None, min_samples_split=3, criterion=entropy, max_depth=5, min_samples_leaf=3 -   0.1s[CV] max_features=None, min_samples_split=2, criterion=entropy, max_depth=5, min_samples_leaf=5 \n",
      "[CV] max_features=None, min_samples_split=4, criterion=entropy, max_depth=5, min_samples_leaf=3 \n",
      "[CV] max_features=None, min_samples_split=5, criterion=entropy, max_depth=5, min_samples_leaf=5 \n",
      "\n",
      "[CV]  max_features=None, min_samples_split=2, criterion=entropy, max_depth=5, min_samples_leaf=5 -   0.1s[CV]  max_features=None, min_samples_split=4, criterion=entropy, max_depth=5, min_samples_leaf=3 -   0.1s[CV]  max_features=None, min_samples_split=5, criterion=entropy, max_depth=5, min_samples_leaf=5 -   0.1s[CV] max_features=None, min_samples_split=4, criterion=entropy, max_depth=5, min_samples_leaf=3 \n",
      "\n",
      "\n",
      "\n",
      "[CV]  max_features=None, min_samples_split=4, criterion=entropy, max_depth=5, min_samples_leaf=3 -   0.1s[CV] max_features=None, min_samples_split=4, criterion=entropy, max_depth=5, min_samples_leaf=5 \n",
      "[CV] max_features=None, min_samples_split=5, criterion=entropy, max_depth=5, min_samples_leaf=3 \n",
      "[CV] max_features=None, min_samples_split=2, criterion=entropy, max_depth=5, min_samples_leaf=7 \n",
      "\n",
      "[CV]  max_features=None, min_samples_split=4, criterion=entropy, max_depth=5, min_samples_leaf=5 -   0.1s[CV]  max_features=None, min_samples_split=5, criterion=entropy, max_depth=5, min_samples_leaf=3 -   0.1s[CV]  max_features=None, min_samples_split=2, criterion=entropy, max_depth=5, min_samples_leaf=7 -   0.1s[CV] max_features=None, min_samples_split=4, criterion=entropy, max_depth=5, min_samples_leaf=3 \n",
      "\n",
      "\n",
      "\n",
      "[CV]  max_features=None, min_samples_split=4, criterion=entropy, max_depth=5, min_samples_leaf=3 -   0.1s[CV] max_features=None, min_samples_split=4, criterion=entropy, max_depth=5, min_samples_leaf=5 \n",
      "[CV] max_features=None, min_samples_split=5, criterion=entropy, max_depth=5, min_samples_leaf=3 \n",
      "[CV] max_features=None, min_samples_split=4, criterion=entropy, max_depth=5, min_samples_leaf=7 \n",
      "\n",
      "[CV]  max_features=None, min_samples_split=4, criterion=entropy, max_depth=5, min_samples_leaf=5 -   0.1s[CV]  max_features=None, min_samples_split=5, criterion=entropy, max_depth=5, min_samples_leaf=3 -   0.1s[CV]  max_features=None, min_samples_split=4, criterion=entropy, max_depth=5, min_samples_leaf=7 -   0.1s[CV] max_features=None, min_samples_split=4, criterion=entropy, max_depth=5, min_samples_leaf=3 \n",
      "\n",
      "\n",
      "\n",
      "[CV]  max_features=None, min_samples_split=4, criterion=entropy, max_depth=5, min_samples_leaf=3 -   0.1s[CV] max_features=None, min_samples_split=5, criterion=entropy, max_depth=5, min_samples_leaf=5 \n",
      "[CV] max_features=None, min_samples_split=3, criterion=entropy, max_depth=5, min_samples_leaf=5 \n",
      "[CV] max_features=None, min_samples_split=4, criterion=entropy, max_depth=5, min_samples_leaf=7 \n",
      "\n",
      "[CV]  max_features=None, min_samples_split=5, criterion=entropy, max_depth=5, min_samples_leaf=5 -   0.1s[CV]  max_features=None, min_samples_split=3, criterion=entropy, max_depth=5, min_samples_leaf=5 -   0.1s[CV]  max_features=None, min_samples_split=4, criterion=entropy, max_depth=5, min_samples_leaf=7 -   0.1s[CV] max_features=None, min_samples_split=3, criterion=entropy, max_depth=5, min_samples_leaf=5 \n",
      "\n",
      "\n",
      "\n",
      "[CV]  max_features=None, min_samples_split=3, criterion=entropy, max_depth=5, min_samples_leaf=5 -   0.1s[CV] max_features=None, min_samples_split=5, criterion=entropy, max_depth=5, min_samples_leaf=5 \n",
      "[CV] max_features=None, min_samples_split=4, criterion=entropy, max_depth=5, min_samples_leaf=5 \n",
      "[CV] max_features=None, min_samples_split=5, criterion=entropy, max_depth=5, min_samples_leaf=7 \n",
      "\n",
      "[CV]  max_features=None, min_samples_split=5, criterion=entropy, max_depth=5, min_samples_leaf=5 -   0.1s[CV]  max_features=None, min_samples_split=4, criterion=entropy, max_depth=5, min_samples_leaf=5 -   0.1s[CV]  max_features=None, min_samples_split=5, criterion=entropy, max_depth=5, min_samples_leaf=7 -   0.1s[CV] max_features=None, min_samples_split=3, criterion=entropy, max_depth=5, min_samples_leaf=5 \n",
      "\n",
      "\n",
      "\n",
      "[CV]  max_features=None, min_samples_split=3, criterion=entropy, max_depth=5, min_samples_leaf=5 -   0.1s[CV] max_features=None, min_samples_split=3, criterion=entropy, max_depth=5, min_samples_leaf=7 \n",
      "[CV] max_features=None, min_samples_split=4, criterion=entropy, max_depth=5, min_samples_leaf=5 \n",
      "[CV] max_features=None, min_samples_split=5, criterion=entropy, max_depth=5, min_samples_leaf=7 \n",
      "\n",
      "[CV]  max_features=None, min_samples_split=3, criterion=entropy, max_depth=5, min_samples_leaf=7 -   0.1s[CV]  max_features=None, min_samples_split=4, criterion=entropy, max_depth=5, min_samples_leaf=5 -   0.1s[CV]  max_features=None, min_samples_split=5, criterion=entropy, max_depth=5, min_samples_leaf=7 -   0.1s[CV] max_features=None, min_samples_split=3, criterion=entropy, max_depth=5, min_samples_leaf=5 \n",
      "\n",
      "\n",
      "\n",
      "[CV]  max_features=None, min_samples_split=3, criterion=entropy, max_depth=5, min_samples_leaf=5 -   0.1s[CV] max_features=None, min_samples_split=3, criterion=entropy, max_depth=5, min_samples_leaf=7 \n",
      "[CV] max_features=None, min_samples_split=4, criterion=entropy, max_depth=5, min_samples_leaf=5 \n",
      "\n",
      "[CV]  max_features=None, min_samples_split=3, criterion=entropy, max_depth=5, min_samples_leaf=7 -   0.1s[CV]  max_features=None, min_samples_split=4, criterion=entropy, max_depth=5, min_samples_leaf=5 -   0.1s\n",
      "[CV] max_features=None, min_samples_split=3, criterion=entropy, max_depth=5, min_samples_leaf=5 \n",
      "\n",
      "[CV] max_features=None, min_samples_split=3, criterion=entropy, max_depth=5, min_samples_leaf=7 \n",
      "[CV]  max_features=None, min_samples_split=3, criterion=entropy, max_depth=5, min_samples_leaf=5 -   0.1s[CV] max_features=None, min_samples_split=3, criterion=entropy, max_depth=5, min_samples_leaf=7 \n",
      "[CV]  max_features=None, min_samples_split=3, criterion=entropy, max_depth=5, min_samples_leaf=7 -   0.1s\n",
      "[CV]  max_features=None, min_samples_split=3, criterion=entropy, max_depth=5, min_samples_leaf=7 -   0.1s\n",
      "[CV] max_features=None, min_samples_split=2, criterion=entropy, max_depth=5, min_samples_leaf=7 \n",
      "\n",
      "[CV] max_features=None, min_samples_split=3, criterion=entropy, max_depth=5, min_samples_leaf=7 \n",
      "[CV]  max_features=None, min_samples_split=2, criterion=entropy, max_depth=5, min_samples_leaf=7 -   0.1s[CV] max_features=None, min_samples_split=4, criterion=entropy, max_depth=5, min_samples_leaf=7 \n",
      "[CV]  max_features=None, min_samples_split=3, criterion=entropy, max_depth=5, min_samples_leaf=7 -   0.1s\n",
      "[CV]  max_features=None, min_samples_split=4, criterion=entropy, max_depth=5, min_samples_leaf=7 -   0.1s\n",
      "[CV] max_features=None, min_samples_split=2, criterion=entropy, max_depth=5, min_samples_leaf=7 \n",
      "\n",
      "[CV]  max_features=None, min_samples_split=2, criterion=entropy, max_depth=5, min_samples_leaf=7 -   0.1s[CV] max_features=None, min_samples_split=4, criterion=entropy, max_depth=5, min_samples_leaf=7 \n",
      "\n",
      "[CV]  max_features=None, min_samples_split=4, criterion=entropy, max_depth=5, min_samples_leaf=7 -   0.1s[CV] max_features=None, min_samples_split=2, criterion=entropy, max_depth=5, min_samples_leaf=7 \n",
      "\n",
      "[CV]  max_features=None, min_samples_split=2, criterion=entropy, max_depth=5, min_samples_leaf=7 -   0.1s[CV] max_features=None, min_samples_split=4, criterion=entropy, max_depth=5, min_samples_leaf=7 \n",
      "\n",
      "[CV]  max_features=None, min_samples_split=4, criterion=entropy, max_depth=5, min_samples_leaf=7 -   0.1s[CV] max_features=None, min_samples_split=2, criterion=entropy, max_depth=5, min_samples_leaf=7 \n",
      "\n",
      "[CV]  max_features=None, min_samples_split=2, criterion=entropy, max_depth=5, min_samples_leaf=7 -   0.1s\n",
      "[CV] max_features=None, min_samples_split=5, criterion=entropy, max_depth=5, min_samples_leaf=7 \n",
      "[CV]  max_features=None, min_samples_split=5, criterion=entropy, max_depth=5, min_samples_leaf=7 -   0.1s\n",
      "[CV] max_features=None, min_samples_split=5, criterion=entropy, max_depth=5, min_samples_leaf=7 \n",
      "[CV]  max_features=None, min_samples_split=5, criterion=entropy, max_depth=5, min_samples_leaf=7 -   0.1s\n",
      "[CV] max_features=None, min_samples_split=5, criterion=entropy, max_depth=5, min_samples_leaf=7 \n",
      "[CV]  max_features=None, min_samples_split=5, criterion=entropy, max_depth=5, min_samples_leaf=7 -   0.1s\n"
     ]
    }
   ],
   "source": [
    "rf_params = {\n",
    "    'n_estimators':[10,20,30],\n",
    "    'criterion':['gini','entropy'],\n",
    "    'max_features':['auto',None],\n",
    "    'max_depth':[None,2,3,4,5],\n",
    "    'warm_start':[True]\n",
    "}\n",
    "\n",
    "rf_gs = GridSearchCV(rf, rf_params, cv=5, n_jobs=-1)"
   ]
  },
  {
   "cell_type": "code",
   "execution_count": 25,
   "metadata": {
    "collapsed": false,
    "scrolled": false
   },
   "outputs": [
    {
     "name": "stdout",
     "output_type": "stream",
     "text": [
      "Runtime: 108.403\n",
      "Gridsearch score: 0.2662\n",
      "Best parameter:  {'max_features': None, 'n_estimators': 30, 'criterion': 'entropy', 'warm_start': True, 'max_depth': None}\n"
     ]
    }
   ],
   "source": [
    "import time\n",
    "def rf_fit(model_gs, X, y):\n",
    "    start = time.time()\n",
    "    model_gs.fit(X,y)\n",
    "    print \"Runtime: %0.3f\"%(time.time() - start)\n",
    "    print \"Gridsearch score: %0.4f\"%(model_gs.best_score_)\n",
    "    print \"Best parameter: \", model_gs.best_params_\n",
    "\n",
    "rf_fit(rf_gs, X_train, Y_train)"
   ]
  },
  {
   "cell_type": "code",
   "execution_count": 26,
   "metadata": {
    "collapsed": false
   },
   "outputs": [
    {
     "name": "stderr",
     "output_type": "stream",
     "text": [
      "//anaconda/lib/python2.7/site-packages/sklearn/ensemble/forest.py:267: UserWarning: Warm-start fitting without increasing n_estimators does not fit new trees.\n",
      "  warn(\"Warm-start fitting without increasing n_estimators does not \"\n"
     ]
    },
    {
     "data": {
      "text/plain": [
       "RandomForestClassifier(bootstrap=True, class_weight=None, criterion='entropy',\n",
       "            max_depth=None, max_features=None, max_leaf_nodes=None,\n",
       "            min_samples_leaf=1, min_samples_split=2,\n",
       "            min_weight_fraction_leaf=0.0, n_estimators=30, n_jobs=1,\n",
       "            oob_score=False, random_state=None, verbose=0, warm_start=True)"
      ]
     },
     "execution_count": 26,
     "metadata": {},
     "output_type": "execute_result"
    }
   ],
   "source": [
    "# Fit my training data to my best parameters\n",
    "rf_best = rf_gs.best_estimator_\n",
    "rf_best.fit(X_train, Y_train)"
   ]
  },
  {
   "cell_type": "code",
   "execution_count": 27,
   "metadata": {
    "collapsed": false
   },
   "outputs": [
    {
     "name": "stdout",
     "output_type": "stream",
     "text": [
      "Best Score 0.283666666667\n"
     ]
    }
   ],
   "source": [
    "print \"Best Score\", rf_best.score(X_test, Y_test)"
   ]
  },
  {
   "cell_type": "code",
   "execution_count": 28,
   "metadata": {
    "collapsed": true
   },
   "outputs": [],
   "source": [
    "rf_predictions = rf_best.predict(X_test)\n",
    "rf_confusion_matrix = pd.crosstab(Y_test, rf_predictions, rownames=['Actual'], colnames=['Predicted'])\n",
    "# rf_confusion_matrix"
   ]
  },
  {
   "cell_type": "code",
   "execution_count": 29,
   "metadata": {
    "collapsed": false
   },
   "outputs": [
    {
     "data": {
      "text/plain": [
       "array([83, 62, 49, ..., 11, 94, 89])"
      ]
     },
     "execution_count": 29,
     "metadata": {},
     "output_type": "execute_result"
    }
   ],
   "source": [
    "rf_predictions"
   ]
  },
  {
   "cell_type": "code",
   "execution_count": 48,
   "metadata": {
    "collapsed": false
   },
   "outputs": [
    {
     "name": "stdout",
     "output_type": "stream",
     "text": [
      "\n",
      "Classification report for the Random Forest:\n",
      "\n",
      "             precision    recall  f1-score   support\n",
      "\n",
      "          0       0.27      0.46      0.34        41\n",
      "          1       0.39      0.60      0.48        50\n",
      "          2       0.32      0.34      0.33        64\n",
      "          3       0.25      0.18      0.21        39\n",
      "          4       0.22      0.25      0.23        53\n",
      "          5       0.20      0.17      0.18        84\n",
      "          6       0.21      0.25      0.22        61\n",
      "          7       0.31      0.31      0.31        42\n",
      "          8       0.39      0.53      0.45        92\n",
      "          9       0.19      0.24      0.21        55\n",
      "         10       0.21      0.24      0.22        51\n",
      "         11       0.27      0.26      0.27        53\n",
      "         12       0.42      0.38      0.40        68\n",
      "         13       0.41      0.32      0.36        59\n",
      "         14       0.24      0.26      0.25        35\n",
      "         15       0.19      0.15      0.17        52\n",
      "         16       0.32      0.26      0.29        84\n",
      "         17       0.17      0.20      0.18        45\n",
      "         18       0.23      0.23      0.23        83\n",
      "         19       0.21      0.20      0.20        25\n",
      "         20       0.16      0.24      0.19        41\n",
      "         21       0.26      0.26      0.26        69\n",
      "         22       0.31      0.31      0.31        71\n",
      "         23       0.35      0.36      0.36        47\n",
      "         24       0.40      0.33      0.36        18\n",
      "         25       0.37      0.35      0.36        99\n",
      "         26       0.35      0.44      0.39        61\n",
      "         27       0.64      0.70      0.67        10\n",
      "         28       0.31      0.31      0.31        70\n",
      "         29       0.29      0.28      0.28        64\n",
      "         30       0.13      0.15      0.14        82\n",
      "         31       0.20      0.32      0.24        38\n",
      "         32       0.38      0.29      0.33        45\n",
      "         33       0.35      0.44      0.39        77\n",
      "         34       0.30      0.31      0.30        42\n",
      "         35       0.20      0.33      0.25        30\n",
      "         36       0.34      0.37      0.35        67\n",
      "         37       0.18      0.18      0.18        74\n",
      "         38       0.19      0.18      0.18        33\n",
      "         39       0.26      0.33      0.29        45\n",
      "         40       0.33      0.35      0.34        91\n",
      "         41       0.21      0.25      0.23       125\n",
      "         42       0.25      0.18      0.21        87\n",
      "         43       0.28      0.25      0.27        44\n",
      "         44       0.39      0.28      0.32        43\n",
      "         45       0.45      0.34      0.39        29\n",
      "         46       0.33      0.39      0.36        79\n",
      "         47       0.33      0.22      0.26        68\n",
      "         48       0.27      0.34      0.30        93\n",
      "         49       0.29      0.24      0.26        33\n",
      "         50       0.17      0.18      0.18        76\n",
      "         51       0.23      0.16      0.19        63\n",
      "         52       0.38      0.41      0.39        79\n",
      "         53       0.61      0.52      0.56        33\n",
      "         54       0.47      0.54      0.50        52\n",
      "         55       0.21      0.17      0.19        53\n",
      "         56       0.18      0.19      0.19        67\n",
      "         57       0.29      0.30      0.30        69\n",
      "         58       0.26      0.22      0.24        88\n",
      "         59       0.23      0.15      0.18        78\n",
      "         60       0.20      0.26      0.22        39\n",
      "         61       0.26      0.20      0.23        86\n",
      "         62       0.22      0.24      0.23        66\n",
      "         63       0.21      0.24      0.22        42\n",
      "         64       0.35      0.38      0.36       117\n",
      "         65       0.39      0.54      0.45       117\n",
      "         66       0.49      0.36      0.41        53\n",
      "         67       0.50      0.39      0.44        57\n",
      "         68       0.33      0.30      0.31        73\n",
      "         69       0.35      0.29      0.31        56\n",
      "         70       0.28      0.33      0.30        82\n",
      "         71       0.19      0.27      0.23        22\n",
      "         72       0.32      0.30      0.31        80\n",
      "         73       0.14      0.14      0.14        59\n",
      "         74       0.67      0.50      0.57         4\n",
      "         75       0.25      0.19      0.22        26\n",
      "         76       0.19      0.13      0.15        71\n",
      "         77       0.27      0.17      0.21        71\n",
      "         78       0.18      0.18      0.18        68\n",
      "         79       0.27      0.20      0.23        41\n",
      "         80       0.53      0.47      0.50        34\n",
      "         81       0.26      0.19      0.22        67\n",
      "         82       0.24      0.24      0.24        66\n",
      "         83       0.16      0.13      0.14        71\n",
      "         84       0.15      0.12      0.14        40\n",
      "         85       0.20      0.16      0.17        58\n",
      "         86       0.29      0.18      0.22        56\n",
      "         87       0.23      0.21      0.22        34\n",
      "         88       0.22      0.35      0.27        17\n",
      "         89       0.35      0.24      0.29        49\n",
      "         90       0.32      0.28      0.30        68\n",
      "         91       0.22      0.23      0.23       149\n",
      "         92       0.46      0.33      0.39        48\n",
      "         93       0.00      0.00      0.00        19\n",
      "         94       0.16      0.18      0.17        34\n",
      "         95       0.34      0.35      0.35        85\n",
      "         96       0.31      0.25      0.27        61\n",
      "         97       0.36      0.38      0.37        82\n",
      "         98       0.39      0.44      0.41        84\n",
      "         99       0.17      0.15      0.16        79\n",
      "\n",
      "avg / total       0.29      0.28      0.28      6000\n",
      "\n"
     ]
    }
   ],
   "source": [
    "print '\\nClassification report for the Random Forest:\\n\\n', classification_report(Y_test, rf_predictions)"
   ]
  },
  {
   "cell_type": "code",
   "execution_count": 31,
   "metadata": {
    "collapsed": true
   },
   "outputs": [],
   "source": [
    "# pred_bin = []\n",
    "# for a, b in zip(rf_predictions, Y_test):\n",
    "#     if a == b:\n",
    "#         pred_bin.append(1)\n",
    "#     else:\n",
    "#         pred_bin.append(0)\n",
    "\n",
    "# df_ = {\"predicted_val\": rf_predictions, \"actual_val\": Y_test, \"bin_pred\": pred_bin}\n",
    "\n",
    "# df_ = pd.DataFrame(df_)"
   ]
  },
  {
   "cell_type": "code",
   "execution_count": 32,
   "metadata": {
    "collapsed": false
   },
   "outputs": [],
   "source": [
    "# df_['bin_pred'].value_counts()"
   ]
  },
  {
   "cell_type": "markdown",
   "metadata": {},
   "source": [
    "### KNeighbors Classifier\n",
    "\n",
    "I chose a KNeighbors Classifier because it is a simple and easy model, yet can be effective when trying to find similar points that are close to each other."
   ]
  },
  {
   "cell_type": "code",
   "execution_count": 33,
   "metadata": {
    "collapsed": true
   },
   "outputs": [],
   "source": [
    "knn = KNeighborsClassifier()"
   ]
  },
  {
   "cell_type": "code",
   "execution_count": 34,
   "metadata": {
    "collapsed": true
   },
   "outputs": [],
   "source": [
    "# hone in on parameters\n",
    "knn_params = {\n",
    "    'n_neighbors':range(15,30,1), # tuning from 2 - 30\n",
    "    'weights':['distance'],\n",
    "    'algorithm':['ball_tree','kd_tree','brute'],\n",
    "    'metric':['euclidean','manhattan']\n",
    "}\n",
    "\n",
    "knn_gs = GridSearchCV(knn, knn_params, cv=5, n_jobs=-1)"
   ]
  },
  {
   "cell_type": "code",
   "execution_count": 35,
   "metadata": {
    "collapsed": false
   },
   "outputs": [
    {
     "name": "stdout",
     "output_type": "stream",
     "text": [
      "Runtime: 94.362\n",
      "Gridsearch score: 0.2572\n",
      "Best parameter:  {'n_neighbors': 20, 'metric': 'manhattan', 'weights': 'distance', 'algorithm': 'kd_tree'}\n"
     ]
    }
   ],
   "source": [
    "import time\n",
    "def knn_fit(model_gs, X, y):\n",
    "    start = time.time()\n",
    "    model_gs.fit(X,y)\n",
    "    print \"Runtime: %0.3f\"%(time.time() - start)\n",
    "    print \"Gridsearch score: %0.4f\"%(model_gs.best_score_)\n",
    "    print \"Best parameter: \", model_gs.best_params_\n",
    "\n",
    "knn_fit(knn_gs, X_train, Y_train)"
   ]
  },
  {
   "cell_type": "code",
   "execution_count": 36,
   "metadata": {
    "collapsed": false
   },
   "outputs": [
    {
     "data": {
      "text/plain": [
       "KNeighborsClassifier(algorithm='kd_tree', leaf_size=30, metric='manhattan',\n",
       "           metric_params=None, n_jobs=1, n_neighbors=20, p=2,\n",
       "           weights='distance')"
      ]
     },
     "execution_count": 36,
     "metadata": {},
     "output_type": "execute_result"
    }
   ],
   "source": [
    "knn_best = knn_gs.best_estimator_\n",
    "knn_best.fit(X_train, Y_train)"
   ]
  },
  {
   "cell_type": "code",
   "execution_count": 37,
   "metadata": {
    "collapsed": false
   },
   "outputs": [
    {
     "name": "stdout",
     "output_type": "stream",
     "text": [
      "Best Score 0.2755\n"
     ]
    }
   ],
   "source": [
    "print \"Best Score\", knn_best.score(X_test, Y_test)"
   ]
  },
  {
   "cell_type": "code",
   "execution_count": 39,
   "metadata": {
    "collapsed": false
   },
   "outputs": [],
   "source": [
    "knn_predictions = knn_best.predict(X_test)\n",
    "knn_confusion_matrix = pd.crosstab(Y_test, knn_predictions, rownames=['Actual'], colnames=['Predicted'])"
   ]
  },
  {
   "cell_type": "code",
   "execution_count": 40,
   "metadata": {
    "collapsed": false
   },
   "outputs": [
    {
     "data": {
      "text/plain": [
       "array([ 5, 62, 49, ..., 11, 21, 89])"
      ]
     },
     "execution_count": 40,
     "metadata": {},
     "output_type": "execute_result"
    }
   ],
   "source": [
    "knn_predictions"
   ]
  },
  {
   "cell_type": "code",
   "execution_count": 49,
   "metadata": {
    "collapsed": false,
    "scrolled": false
   },
   "outputs": [
    {
     "name": "stdout",
     "output_type": "stream",
     "text": [
      "\n",
      "Classification report for the KNN:\n",
      "\n",
      "             precision    recall  f1-score   support\n",
      "\n",
      "          0       0.21      0.39      0.27        41\n",
      "          1       0.36      0.54      0.44        50\n",
      "          2       0.25      0.34      0.29        64\n",
      "          3       0.14      0.15      0.15        39\n",
      "          4       0.21      0.30      0.25        53\n",
      "          5       0.17      0.21      0.19        84\n",
      "          6       0.15      0.25      0.19        61\n",
      "          7       0.28      0.33      0.30        42\n",
      "          8       0.31      0.50      0.38        92\n",
      "          9       0.15      0.24      0.18        55\n",
      "         10       0.18      0.25      0.21        51\n",
      "         11       0.24      0.25      0.24        53\n",
      "         12       0.41      0.43      0.42        68\n",
      "         13       0.32      0.25      0.28        59\n",
      "         14       0.22      0.31      0.26        35\n",
      "         15       0.17      0.17      0.17        52\n",
      "         16       0.25      0.25      0.25        84\n",
      "         17       0.19      0.24      0.22        45\n",
      "         18       0.22      0.27      0.24        83\n",
      "         19       0.19      0.16      0.17        25\n",
      "         20       0.13      0.24      0.17        41\n",
      "         21       0.21      0.25      0.23        69\n",
      "         22       0.29      0.32      0.30        71\n",
      "         23       0.35      0.38      0.37        47\n",
      "         24       0.31      0.28      0.29        18\n",
      "         25       0.27      0.32      0.29        99\n",
      "         26       0.41      0.43      0.42        61\n",
      "         27       0.58      0.70      0.64        10\n",
      "         28       0.25      0.29      0.27        70\n",
      "         29       0.20      0.30      0.24        64\n",
      "         30       0.14      0.17      0.16        82\n",
      "         31       0.24      0.32      0.27        38\n",
      "         32       0.41      0.29      0.34        45\n",
      "         33       0.33      0.40      0.36        77\n",
      "         34       0.28      0.26      0.27        42\n",
      "         35       0.23      0.27      0.25        30\n",
      "         36       0.31      0.34      0.33        67\n",
      "         37       0.18      0.22      0.20        74\n",
      "         38       0.17      0.15      0.16        33\n",
      "         39       0.25      0.29      0.27        45\n",
      "         40       0.32      0.38      0.35        91\n",
      "         41       0.22      0.31      0.26       125\n",
      "         42       0.34      0.24      0.28        87\n",
      "         43       0.28      0.25      0.27        44\n",
      "         44       0.22      0.23      0.23        43\n",
      "         45       0.33      0.24      0.28        29\n",
      "         46       0.30      0.41      0.34        79\n",
      "         47       0.36      0.25      0.30        68\n",
      "         48       0.31      0.33      0.32        93\n",
      "         49       0.28      0.24      0.26        33\n",
      "         50       0.20      0.21      0.20        76\n",
      "         51       0.27      0.19      0.22        63\n",
      "         52       0.38      0.39      0.39        79\n",
      "         53       0.57      0.52      0.54        33\n",
      "         54       0.50      0.48      0.49        52\n",
      "         55       0.14      0.11      0.13        53\n",
      "         56       0.23      0.22      0.23        67\n",
      "         57       0.33      0.36      0.34        69\n",
      "         58       0.23      0.20      0.22        88\n",
      "         59       0.33      0.15      0.21        78\n",
      "         60       0.24      0.26      0.25        39\n",
      "         61       0.27      0.19      0.22        86\n",
      "         62       0.18      0.15      0.16        66\n",
      "         63       0.19      0.21      0.20        42\n",
      "         64       0.29      0.32      0.31       117\n",
      "         65       0.38      0.50      0.43       117\n",
      "         66       0.42      0.40      0.41        53\n",
      "         67       0.38      0.32      0.35        57\n",
      "         68       0.36      0.23      0.28        73\n",
      "         69       0.31      0.27      0.29        56\n",
      "         70       0.34      0.28      0.31        82\n",
      "         71       0.21      0.23      0.22        22\n",
      "         72       0.35      0.29      0.32        80\n",
      "         73       0.21      0.12      0.15        59\n",
      "         74       1.00      0.25      0.40         4\n",
      "         75       0.33      0.23      0.27        26\n",
      "         76       0.22      0.11      0.15        71\n",
      "         77       0.37      0.18      0.25        71\n",
      "         78       0.18      0.16      0.17        68\n",
      "         79       0.27      0.22      0.24        41\n",
      "         80       0.42      0.29      0.34        34\n",
      "         81       0.28      0.18      0.22        67\n",
      "         82       0.33      0.21      0.26        66\n",
      "         83       0.26      0.17      0.20        71\n",
      "         84       0.11      0.05      0.07        40\n",
      "         85       0.20      0.16      0.18        58\n",
      "         86       0.35      0.21      0.27        56\n",
      "         87       0.23      0.21      0.22        34\n",
      "         88       0.21      0.29      0.24        17\n",
      "         89       0.41      0.22      0.29        49\n",
      "         90       0.39      0.26      0.32        68\n",
      "         91       0.28      0.21      0.24       149\n",
      "         92       0.34      0.31      0.33        48\n",
      "         93       0.00      0.00      0.00        19\n",
      "         94       0.22      0.18      0.20        34\n",
      "         95       0.35      0.29      0.32        85\n",
      "         96       0.47      0.31      0.38        61\n",
      "         97       0.41      0.37      0.38        82\n",
      "         98       0.37      0.37      0.37        84\n",
      "         99       0.34      0.18      0.23        79\n",
      "\n",
      "avg / total       0.28      0.28      0.27      6000\n",
      "\n"
     ]
    }
   ],
   "source": [
    "print '\\nClassification report for the KNN:\\n\\n', classification_report(Y_test, knn_predictions)"
   ]
  },
  {
   "cell_type": "markdown",
   "metadata": {
    "collapsed": false
   },
   "source": [
    "# Conclusion\n",
    "\n",
    "In conclusion, Random Forest was the most optimal model giving 28% accuracy and KNN was in a close second at 27%. Overall these models were very similar, but tackled the problem in very different ways."
   ]
  },
  {
   "cell_type": "code",
   "execution_count": null,
   "metadata": {
    "collapsed": false
   },
   "outputs": [],
   "source": []
  },
  {
   "cell_type": "code",
   "execution_count": null,
   "metadata": {
    "collapsed": true
   },
   "outputs": [],
   "source": []
  }
 ],
 "metadata": {
  "kernelspec": {
   "display_name": "Python 2",
   "language": "python",
   "name": "python2"
  },
  "language_info": {
   "codemirror_mode": {
    "name": "ipython",
    "version": 2
   },
   "file_extension": ".py",
   "mimetype": "text/x-python",
   "name": "python",
   "nbconvert_exporter": "python",
   "pygments_lexer": "ipython2",
   "version": "2.7.11"
  }
 },
 "nbformat": 4,
 "nbformat_minor": 0
}
